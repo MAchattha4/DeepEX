{
 "cells": [
  {
   "cell_type": "code",
   "execution_count": 2,
   "metadata": {},
   "outputs": [
    {
     "name": "stderr",
     "output_type": "stream",
     "text": [
      "Using TensorFlow backend.\n"
     ]
    }
   ],
   "source": [
    "%load_ext autoreload\n",
    "%autoreload 2\n",
    "%matplotlib inline\n",
    "%config InlineBackend.figure_format='retina'\n",
    "\n",
    "# from __future__ import absolute_import, division, print_function\n",
    "\n",
    "import sys\n",
    "import os\n",
    "\n",
    "import pandas as pd\n",
    "import numpy as np\n",
    "import matplotlib.pylab as plt\n",
    "from keras.optimizers import Adam\n",
    "from sklearn.metrics import mean_squared_error as mse\n",
    "from keras import backend as K\n",
    "from keras.callbacks import ModelCheckpoint\n",
    "from keras.models import Sequential,Model\n",
    "from keras.layers import Input,LSTM, Dense, Flatten, Conv1D, Lambda, Reshape\n",
    "from keras.layers.merge import concatenate, multiply,add\n",
    "import tensorflow as tf\n",
    "from keras import regularizers\n",
    "from keras.initializers import glorot_uniform\n",
    "from tqdm import tqdm\n",
    "import rpy2\n",
    "import rpy2.robjects.numpy2ri\n",
    "from stldecompose import decompose\n",
    "rpy2.robjects.numpy2ri.activate()\n",
    "from rpy2.robjects.packages import importr\n",
    "from keras import regularizers\n",
    "\n",
    "from rpy2.robjects import r, pandas2ri\n",
    "pandas2ri.activate()\n",
    "stats = importr('stats')\n",
    "stl=stats.stl\n",
    "ts =stats.ts\n",
    "from statsmodels.tsa.seasonal import seasonal_decompose"
   ]
  },
  {
   "cell_type": "code",
   "execution_count": 9,
   "metadata": {},
   "outputs": [],
   "source": [
    "# d =\"/home/chatta/ICML/M3/\"\n",
    "d =\"/home/chatta/ICML/nn5/\"\n",
    "data = pd.read_csv(d+\"NN5_interpolated.csv\",header=None)\n",
    "predictions = pd.read_csv(d+'final_theta/theta_50_h3.csv',index_col=0,skiprows = [1])\n",
    "# xls = pd.ExcelFile(d+'M3C.xls')\n",
    "# data=pd.read_excel(xls,'M3Month')\n",
    "# data = pd.read_csv(d+\"cif_dataset_complete.csv\",header=None)\n",
    "# data = pd.read_csv(d+\"NN5_interpolated.csv\",header=None)\n",
    "# predictions = pd.read_csv(d+'theta_25_datafit_Month_h18.csv',index_col=0,skiprows = [1])\n",
    "# theta1 = pd.read_csv(d+'1st_theta_300.csv',index_col=0)\n",
    "data_length = data.shape[0]\n"
   ]
  },
  {
   "cell_type": "code",
   "execution_count": 4,
   "metadata": {},
   "outputs": [],
   "source": [
    "def make_input(data,window_size,horizon=1):\n",
    "    length=data.shape[0]\n",
    "#     depth=data.shape[2]\n",
    "    y = np.zeros([length-window_size+1-horizon,horizon])\n",
    "    output=np.zeros([length-window_size+1-horizon,window_size])\n",
    "    for i in range(length-window_size-horizon+1):\n",
    "        output[i:i+1,:]=data[i:i+window_size]\n",
    "        y[i,:]= data[i+window_size:i+window_size+horizon]\n",
    "    return output.reshape(output.shape[0],window_size,1), y\n",
    "\n",
    "def make_k_input(data,window_size,horizon):\n",
    "    length = data.shape[0]\n",
    "    output= np.zeros([length-window_size+1-horizon,horizon])\n",
    "    for i in range(length-window_size-horizon+1):\n",
    "        output[i:i+1,:]=data[i+window_size:i+window_size+horizon]\n",
    "    return output.reshape(output.shape[0],horizon,1)\n"
   ]
  },
  {
   "cell_type": "code",
   "execution_count": 5,
   "metadata": {},
   "outputs": [],
   "source": [
    "def nonov_make_input(data,window_size,horizon=1):\n",
    "    length=data.shape[0]-window_size\n",
    "    loop=length//horizon\n",
    "    extra = length%horizon\n",
    "#     print(str(extra))\n",
    "    data = np.append(data,np.zeros([horizon-extra]))\n",
    "#     print(data)\n",
    "    if extra ==0:\n",
    "        i_val = loop\n",
    "    else:\n",
    "        i_val=loop+1\n",
    "        \n",
    "    output=np.zeros([i_val,window_size])\n",
    "    y=np.zeros([i_val,horizon])\n",
    "    for i in range(i_val):\n",
    "        output[i:i+1,:]=data[i*horizon:(i*horizon)+window_size]\n",
    "        y[i,:]= data[(i*horizon)+window_size:(i*horizon)+window_size+horizon]\n",
    "        \n",
    "    return output.reshape(output.shape[0],window_size,1), y\n",
    "\n",
    "def nonov_make_k_input(data,window_size,horizon):\n",
    "    length = data.shape[0]-window_size\n",
    "    loop=length//horizon\n",
    "    extra = length%horizon\n",
    "    data_app = np.repeat(data[-1],extra)\n",
    "    data = np.append(data,data_app)    \n",
    "#     data = np.append(data,np.zeros([horizon-extra]))\n",
    "    if extra ==0:\n",
    "        i_val = loop\n",
    "    else:\n",
    "        i_val=loop+1\n",
    "    output=np.zeros([i_val,horizon])\n",
    "    for i in range(i_val):\n",
    "        output[i:i+1,:]=data[(i*horizon)+window_size:(i*horizon)+window_size+horizon]\n",
    "    return output.reshape(output.shape[0],horizon,1)    "
   ]
  },
  {
   "cell_type": "code",
   "execution_count": 10,
   "metadata": {},
   "outputs": [
    {
     "name": "stderr",
     "output_type": "stream",
     "text": [
      "100%|██████████| 111/111 [11:13<00:00,  6.07s/it]\n"
     ]
    }
   ],
   "source": [
    "with tqdm(total=data_length) as pbar:\n",
    "    for horizon in [1]:\n",
    "        \n",
    "        \n",
    "    \n",
    "        \n",
    "        final_predictions = np.zeros([data_length,56])\n",
    "        for y in range(data_length):\n",
    "            \n",
    "#             n_test = data.iloc[y].values[2] #----cif\n",
    "            n_test = 56\n",
    "            horizon=56 #-----------check\n",
    "            \n",
    "            window_size=25\n",
    "#             if horizon==6:\n",
    "#                 window_size=7\n",
    "#             else:\n",
    "#                 window_size=15\n",
    "           \n",
    "#             nn_val =np.asarray(data.loc[y][3:].dropna().values,dtype=float) #-----cif\n",
    "            nn_val= np.asarray(data.iloc[y].dropna().values,dtype=float)\n",
    "            rr = nn_val.size\n",
    "            rr = int(np.floor(rr*.25))\n",
    "            temp1=nn_val[2*rr:] #--------------check\n",
    "#             temp1=np.asarray(data.loc[y].dropna().values,dtype=float)[300:]\n",
    "           \n",
    "            epsilon = 0.05\n",
    "            temp1[temp1<epsilon] = temp1[temp1<epsilon]+0.05\n",
    "            series = np.log(temp1)\n",
    "#             series = temp1\n",
    "\n",
    "\n",
    "            \n",
    "            frequency = 7   #------------------check            \n",
    "            if temp1.size < 2*frequency:\n",
    "                frequency=2\n",
    "            \n",
    "            result = stl(ts(series,frequency=frequency),\"periodic\")\n",
    "            temp=pandas2ri.ri2py(result.rx2('time.series'))\n",
    "            series_1  = temp[:,0]+temp[:,2]\n",
    "            \n",
    "            t_v_data = series_1[:-n_test]            \n",
    "            series_length = t_v_data.size\n",
    "            n_val = int(np.round(series_length*.2))\n",
    "            if n_val < horizon:\n",
    "                n_val = horizon\n",
    "            train = t_v_data[:-n_val]\n",
    "            if train.size <11:\n",
    "                window_size=3\n",
    "            \n",
    "            test = series_1[-(n_test+window_size):]            \n",
    "\n",
    "            val = t_v_data[-(n_val+window_size):]\n",
    "#             resea=temp[:,1][-n_test:]\n",
    "\n",
    "            \n",
    "\n",
    "            temp_theta1= np.asarray(predictions.iloc[y].dropna().values,dtype=float)\n",
    "            temp_theta1[np.argwhere(temp_theta1<=0)]=0.5\n",
    "            temp_theta1 = np.log(temp_theta1)\n",
    "            result_k = stl(ts(temp_theta1,frequency=frequency),\"periodic\")\n",
    "            temp_theta=pandas2ri.ri2py(result_k.rx2('time.series'))\n",
    "            series_k_org = temp_theta[:,0]+temp_theta[:,2]\n",
    "            \n",
    "        \n",
    "#             temp_theta= np.log(temp_theta)-temp[:,0]\n",
    "            temp2= series_k_org[:-n_test]\n",
    "            test_theta = series_k_org[-(n_test+window_size):]\n",
    "            resea=temp[:,1][-n_test:]\n",
    "\n",
    "            \n",
    "            \n",
    "            \n",
    "            temp2_train = temp2[:-n_val]\n",
    "            temp2_val = temp2[-(n_val+window_size):]            \n",
    "            train_sequence = make_input(train, window_size,horizon)\n",
    "            val_sequence = make_input(val,window_size,horizon)\n",
    "            test_sequence = nonov_make_input(test,window_size,horizon)\n",
    "            \n",
    "            k_train = make_k_input(temp2_train,window_size,horizon)\n",
    "            k_train_input = np.repeat(k_train,window_size,axis=1)            \n",
    "            k_val = make_k_input(temp2_val,window_size,horizon)\n",
    "            k_val_input = np.repeat(k_val,window_size,axis=1)\n",
    "            k_test = nonov_make_k_input(test_theta,window_size,horizon)\n",
    "            k_test_input = np.repeat(k_test,window_size,axis=1)\n",
    "            \n",
    "            x_train = train_sequence[0]#.reshape(train_sequence[0].shape[0],window_size,1)\n",
    "            y_train =train_sequence[1]#-train_sequence[0][:,window_size-1,:].reshape(train_sequence[0].shape[0],1)\n",
    "            x_val = val_sequence[0]#-val_sequence[0][:,window_size-1,:].reshape(val_sequence[0].shape[0],1,1)#.reshape(val_sequence[0].shape[0],window_size,1)\n",
    "            y_val = val_sequence[1]#-val_sequence[0][:,window_size-1,:].reshape(val_sequence[0].shape[0],1)\n",
    "            x_test = test_sequence[0]#-test_sequence[0][:,window_size-1,:].reshape(test_sequence[0].shape[0],1,1)#.reshape(val_sequence[0].shape[0],window_size,1)\n",
    "            y_test = test_sequence[1]#-test_sequence[0][:,window_size-1,:].reshape(test_sequence[0].shape[0],1)\n",
    "            \n",
    "            train_input = np.append(x_train,k_train,axis=1)#-train_sequence[0][:,window_size-1,:].reshape(train_sequence[0].shape[0],1,1)\n",
    "            val_input = np.append(x_val,k_val,axis=1)#-val_sequence[0][:,window_size-1,:].reshape(val_sequence[0].shape[0],1,1)\n",
    "            test_input = np.append(x_test,k_test,axis=1)#-test_sequence[0][:,window_size-1,:].reshape(test_sequence[0].shape[0],1,1)\n",
    "            \n",
    "           \n",
    "            k_train=k_train.reshape(k_train.shape[0],horizon)\n",
    "            k_val=k_val.reshape(k_val.shape[0],horizon)\n",
    "            k_test=k_test.reshape(k_test.shape[0],horizon)\n",
    "            \n",
    "\n",
    "           \n",
    "\n",
    "            tf.reset_default_graph()\n",
    "            K.clear_session()\n",
    "\n",
    "            inputs_n= Input(batch_shape=(None,window_size+horizon,1),name='input_n')\n",
    "            inputs_k=Input(batch_shape=(None,horizon),name='input_k')\n",
    "            branch_0 = Conv1D(64,3, strides=1, padding='same',activation='relu',kernel_initializer=glorot_uniform(1))(inputs_n)\n",
    "#             branch_1 = branch_0\n",
    "            branch_0 = Conv1D(64,3, strides=1, padding='same',activation='relu',kernel_initializer=glorot_uniform(1))(branch_0)\n",
    "#             branch_0 = add([branch_1,branch_0])\n",
    "            branch_0=Flatten()(branch_0)\n",
    "            net= Dense(horizon,name='dense_final',activity_regularizer=regularizers.l2(0.03))(branch_0)\n",
    "            net=add([net,inputs_k])\n",
    "            #-----------------asdasdasdasdasd----------------------------------\n",
    "            model=Model(inputs=[inputs_n,inputs_k],outputs=net)\n",
    "            opt = Adam(lr=0.0001)\n",
    "            callback = ModelCheckpoint(filepath=d+'nn5.h5',monitor='val_loss',save_best_only=True,save_weights_only=True)\n",
    "\n",
    "            model.compile(loss='mean_squared_error',\n",
    "                          optimizer=opt)\n",
    "\n",
    "            model.fit({'input_n':train_input, 'input_k':k_train},y_train,validation_data=[[val_input,k_val],y_val],callbacks=[callback],batch_size=8,shuffle=True, epochs=75,verbose=0)\n",
    "#             validation_data=[[test_input,k_test],y_test],callbacks=[callback]\n",
    "            model.load_weights(d+'nn5.h5')\n",
    "            pred=model.predict({'input_n':test_input, 'input_k':k_test})\n",
    "#             pred_final= pred.reshape(n_test)#+test_sequence[0][:,window_size-1,:].reshape(test_sequence[0].shape[0],1))\n",
    "            pred=pred.reshape(pred.size)[:n_test]\n",
    "#             helo_temp=pred[0,0]\n",
    "#             for i in range(pred.shape[0]-2):\n",
    "#                 helo_temp=np.append(helo_temp,pred[i+1,0])\n",
    "#             helo_temp = np.append(helo_temp,pred[pred.shape[0]-1,:])\n",
    "            final_predictions[y,:n_test] = pred.reshape(n_test)\n",
    "            pbar.update(1)\n",
    "        np.savetxt(d+'final/50_horg_nonov.csv',final_predictions, fmt='%1.3f',delimiter=',')"
   ]
  },
  {
   "cell_type": "code",
   "execution_count": 138,
   "metadata": {},
   "outputs": [
    {
     "data": {
      "text/plain": [
       "[0.04731991286584695, 0.047422215478297156]"
      ]
     },
     "execution_count": 138,
     "metadata": {},
     "output_type": "execute_result"
    }
   ],
   "source": [
    "[mse(test_theta[-n_test:],test[-n_test:]),mse(pred,test[-n_test:])]"
   ]
  },
  {
   "cell_type": "code",
   "execution_count": 139,
   "metadata": {},
   "outputs": [
    {
     "data": {
      "text/plain": [
       "[<matplotlib.lines.Line2D at 0x7f5aec042518>]"
      ]
     },
     "execution_count": 139,
     "metadata": {},
     "output_type": "execute_result"
    },
    {
     "data": {
      "image/png": "[encoded data removed]",
      "text/plain": [
       "<Figure size 432x288 with 1 Axes>"
      ]
     },
     "metadata": {
      "image/png": {
       "height": 250,
       "width": 382
      },
      "needs_background": "light"
     },
     "output_type": "display_data"
    }
   ],
   "source": [
    "plt.plot(test_theta[-n_test:],color='orange')\n",
    "plt.plot(pred,color='blue')\n",
    "plt.plot(test[-(n_test):],color='green')"
   ]
  },
  {
   "cell_type": "code",
   "execution_count": 244,
   "metadata": {},
   "outputs": [],
   "source": [
    "pred=pred.reshape(pred.size)[:n_test]"
   ]
  },
  {
   "cell_type": "code",
   "execution_count": 11,
   "metadata": {},
   "outputs": [],
   "source": [
    "final_mape=np.zeros([1,2])\n",
    "d =\"/home/chatta/ICML/CIF2016/\"\n",
    "# temp=0\n",
    "# for s in ['Year','Quart','Other','Month']:\n",
    "# xls = pd.ExcelFile(d+'M3C.xls')\n",
    "# data = pd.read_csv(d+'NN5_interpolated.csv',header=None)\n",
    "data = pd.read_csv(d+'cif_dataset_complete.csv',header=None)\n",
    "\n",
    "predictions = pd.read_csv(d+'theta_25_datafit_h1.csv',index_col=0,skiprows = [1])\n",
    "data_length=data.shape[0]\n",
    "\n",
    "lstm_k = pd.read_csv(d+'CIF_final_h1_correct.csv',header=None)\n",
    "mape = np.zeros([data_length,2])\n",
    "mse_err = np.zeros([data_length,2])\n",
    "# horizon=56\n",
    "for i in range(data_length):\n",
    "    horizon = data.loc[y][1]\n",
    "    #     if s == 'Year':\n",
    "#         horizon=6\n",
    "#     elif s == 'Month':\n",
    "#         horizon = 18\n",
    "#     else:\n",
    "#         horizon = 8\n",
    "\n",
    "#     temp1=np.asarray(data.loc[i].dropna().values,dtype=float)[300:]\n",
    "\n",
    "    nn_val =np.asarray(data.loc[i][3:].dropna().values,dtype=float) #-----cif\n",
    "    rr = nn_val.size\n",
    "    rr = int(np.floor(rr*.25))\n",
    "    temp1=nn_val[rr:]\n",
    "    frequency =12           \n",
    "    if temp1.size < 2*frequency:\n",
    "        frequency=7\n",
    "    epsilon = 0.05\n",
    "    temp1[temp1<epsilon] = temp1[temp1<epsilon]+0.05\n",
    "    series = np.log(temp1)\n",
    "    result = stl(ts(series,frequency=frequency),\"periodic\")\n",
    "    temp=pandas2ri.ri2py(result.rx2('time.series'))\n",
    "    val  = temp[:,0]+temp[:,2]\n",
    "    val = val[-horizon:]\n",
    "    zero_indexes = np.argwhere(val==0)\n",
    "    val =np.delete(val,zero_indexes,None)\n",
    "    temp_theta1= np.asarray(predictions.iloc[i].dropna().values,dtype=float)\n",
    "    temp_theta1[np.argwhere(temp_theta1<=0)]=0.5\n",
    "    temp_theta1 = np.log(temp_theta1)\n",
    "    result_k = stl(ts(temp_theta1,frequency=frequency),\"periodic\")\n",
    "    temp_theta=pandas2ri.ri2py(result_k.rx2('time.series'))\n",
    "    preds= temp_theta[:,0]+temp_theta[:,2]\n",
    "    preds=preds[-horizon:]\n",
    "    preds = np.delete(preds,zero_indexes,None)\n",
    "#     preds_k = np.asarray(lstm_k.loc[i,:])\n",
    "    preds_k = np.asarray(lstm_k.iloc[i].values,dtype=float)[:horizon]\n",
    "    preds_k  = np.delete(preds_k,zero_indexes,None)\n",
    "#     print(sMAPE(val,preds))\n",
    "\n",
    "    mape[i,0] = sMAPE(val,preds,horizon)\n",
    "    mape[i,1] = sMAPE(val,preds_k,horizon)\n",
    "    mse_err[i,0] = mse(val,preds)\n",
    "    mse_err[i,1] =mse(val,preds_k)\n",
    "#         print(mape.shape)\n",
    "#     break\n",
    "avg_mape  = np.sum(mape,axis=0)/data_length\n",
    "avg_mse  = np.sum(mse_err,axis=0)/data_length\n",
    "\n",
    "#         print(avg_mape.shape)\n",
    "#         break\n",
    "final_mape[0,:] = avg_mape\n",
    "# temp+=1\n",
    "final_avg_mape = np.sum(final_mape,axis=0)/final_mape.shape[0]"
   ]
  },
  {
   "cell_type": "code",
   "execution_count": 12,
   "metadata": {},
   "outputs": [
    {
     "data": {
      "text/plain": [
       "array([1.6173557, 1.4380546])"
      ]
     },
     "execution_count": 12,
     "metadata": {},
     "output_type": "execute_result"
    }
   ],
   "source": [
    "avg_mape"
   ]
  },
  {
   "cell_type": "code",
   "execution_count": 12,
   "metadata": {},
   "outputs": [
    {
     "data": {
      "text/plain": [
       "array([-0.008,  0.003,  0.005, -0.003,  0.011,  0.001,  0.001,  0.003,\n",
       "       -0.01 , -0.008,  0.005,  0.009,  0.   ,  0.   ,  0.   ,  0.   ,\n",
       "        0.   ,  0.   ,  0.   ,  0.   ,  0.   ,  0.   ,  0.   ,  0.   ,\n",
       "        0.   ,  0.   ,  0.   ,  0.   ,  0.   ,  0.   ,  0.   ,  0.   ,\n",
       "        0.   ,  0.   ,  0.   ,  0.   ,  0.   ,  0.   ,  0.   ,  0.   ,\n",
       "        0.   ,  0.   ,  0.   ,  0.   ,  0.   ,  0.   ,  0.   ,  0.   ,\n",
       "        0.   ,  0.   ,  0.   ,  0.   ,  0.   ,  0.   ,  0.   ,  0.   ])"
      ]
     },
     "execution_count": 12,
     "metadata": {},
     "output_type": "execute_result"
    }
   ],
   "source": [
    "preds_k"
   ]
  },
  {
   "cell_type": "code",
   "execution_count": 66,
   "metadata": {},
   "outputs": [
    {
     "data": {
      "text/plain": [
       "54"
      ]
     },
     "execution_count": 66,
     "metadata": {},
     "output_type": "execute_result"
    }
   ],
   "source": [
    "18*3"
   ]
  },
  {
   "cell_type": "code",
   "execution_count": 221,
   "metadata": {},
   "outputs": [
    {
     "data": {
      "text/plain": [
       "26.921728460241734"
      ]
     },
     "execution_count": 221,
     "metadata": {},
     "output_type": "execute_result"
    }
   ],
   "source": [
    "mse(pred_final,temp1[-n_test:])"
   ]
  },
  {
   "cell_type": "code",
   "execution_count": 8,
   "metadata": {},
   "outputs": [],
   "source": [
    "def sMAPE(val,preds,horizon):\n",
    "    temp = np.abs(val-preds)\n",
    "    temp1=np.abs(val)+np.abs(preds)\n",
    "    \n",
    "    smape = 2/horizon*np.sum(temp/temp1)\n",
    "\n",
    "    return smape"
   ]
  },
  {
   "cell_type": "code",
   "execution_count": 160,
   "metadata": {},
   "outputs": [
    {
     "data": {
      "text/plain": [
       "0.03126377375932253"
      ]
     },
     "execution_count": 160,
     "metadata": {},
     "output_type": "execute_result"
    }
   ],
   "source": [
    "sMAPE(temp1[-n_test:],np.exp(temp_theta1[-n_test:]))"
   ]
  },
  {
   "cell_type": "code",
   "execution_count": null,
   "metadata": {
    "collapsed": true
   },
   "outputs": [],
   "source": [
    "mape = np.zeros([data_length])\n",
    "for i in range(data_length):\n",
    "    \n",
    "    val=np.asarray(data.loc[i][6:].dropna().values,dtype=float)[-6:]\n",
    "    preds=final_predictions[i,:]\n",
    "#     print(sMAPE(val,preds))\n",
    "    mape[i] = sMAPE(val,preds)\n",
    "#     print(mape[i])\n",
    "#     break\n",
    "avg_mape  = np.sum(mape)/data_length\n",
    "avg_mape"
   ]
  },
  {
   "cell_type": "code",
   "execution_count": null,
   "metadata": {
    "collapsed": true
   },
   "outputs": [],
   "source": []
  }
 ],
 "metadata": {
  "kernelspec": {
   "display_name": "Python 3",
   "language": "python",
   "name": "python3"
  },
  "language_info": {
   "codemirror_mode": {
    "name": "ipython",
    "version": 3
   },
   "file_extension": ".py",
   "mimetype": "text/x-python",
   "name": "python",
   "nbconvert_exporter": "python",
   "pygments_lexer": "ipython3",
   "version": "3.6.5"
  }
 },
 "nbformat": 4,
 "nbformat_minor": 2
}
